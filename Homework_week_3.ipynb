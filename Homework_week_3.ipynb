{
 "cells": [
  {
   "cell_type": "code",
   "execution_count": 30,
   "metadata": {},
   "outputs": [],
   "source": [
    "import numpy as np\n",
    "import pandas as pd"
   ]
  },
  {
   "cell_type": "markdown",
   "metadata": {},
   "source": [
    "Question 1: Create a NumPy array myArray1 \n",
    "The array should hold the numbers 1, 4, 6, 2, 5.  \n",
    "Then, multiply each value by 10. Print the final myArray1.\n"
   ]
  },
  {
   "cell_type": "code",
   "execution_count": 8,
   "metadata": {},
   "outputs": [
    {
     "name": "stdout",
     "output_type": "stream",
     "text": [
      "[10 40 60 20 50]\n"
     ]
    }
   ],
   "source": [
    "myArray1 = np.array([1,4,6,2,5])*10\n",
    "print(myArray1)"
   ]
  },
  {
   "cell_type": "markdown",
   "metadata": {},
   "source": [
    "Question 2: Create a NumPy array called myArray2 \n",
    "1)The array should hold 100 normally distributed numbers with mean = 100 and standard deviation of 10. Print the first 30 values.\n",
    "2)Store the values that are > 100 in a new Array called myArray2GT100. Print the first 30 values.\n",
    "3)Print how many values are > 100.\n",
    "4)Was that what you would expect?\n"
   ]
  },
  {
   "cell_type": "code",
   "execution_count": 29,
   "metadata": {},
   "outputs": [
    {
     "name": "stdout",
     "output_type": "stream",
     "text": [
      "[109.41581074  99.53929774 105.32914185  88.17931623 105.51056589\n",
      "  86.08293427 107.88202035  90.42142462  91.75901973  86.06810434\n",
      " 104.71446327 100.76519189 103.61012007 101.29529517  89.04339334\n",
      " 107.95341475 100.65311333 100.63181328  92.8697429  105.65748363\n",
      "  95.76325438 100.88602814  95.44896526 105.24700075  99.7477918\n",
      "  92.35589446  82.08620287  84.68312116 107.33528714 103.86727762]\n",
      "[109.41581074011769, 105.32914185493887, 105.51056589076872, 107.88202035467629, 104.71446327497002, 100.76519188610108, 103.61012006896408, 101.29529516587127, 107.9534147465817, 100.65311332841527, 100.6318132760337, 105.65748363401416, 100.88602813841831, 105.24700075262004, 107.33528713832719, 103.8672776201658, 104.51592330332969, 103.99361895597369, 110.88248304326581, 117.75878842285549, 111.47677833352577, 106.46534838082765, 101.2929977471472, 108.61698028966676, 110.13364885173665, 106.04255032524733, 102.86726391471227, 109.13368124075566, 107.67517981833869, 103.79844612901799]\n",
      "[109.41581074011769, 105.32914185493887, 105.51056589076872, 107.88202035467629, 104.71446327497002, 100.76519188610108, 103.61012006896408, 101.29529516587127, 107.9534147465817, 100.65311332841527, 100.6318132760337, 105.65748363401416, 100.88602813841831, 105.24700075262004, 107.33528713832719, 103.8672776201658, 104.51592330332969, 103.99361895597369, 110.88248304326581, 117.75878842285549, 111.47677833352577, 106.46534838082765, 101.2929977471472, 108.61698028966676, 110.13364885173665, 106.04255032524733, 102.86726391471227, 109.13368124075566, 107.67517981833869, 103.79844612901799, 115.15876502268355, 110.16173599389103, 110.77953995840627, 100.67570001636979, 104.4010716985985, 108.10363987650058, 105.6324582602726, 104.6901350730014, 102.04731386678779, 114.12886735097405, 107.87857905906354, 114.65105291579403, 106.69235417347782, 102.00670166713883, 129.8409821897943, 101.72143582422673, 106.40793217916469, 101.96727269236347, 106.60756738774619]\n"
     ]
    },
    {
     "data": {
      "text/plain": [
       "49"
      ]
     },
     "execution_count": 29,
     "metadata": {},
     "output_type": "execute_result"
    }
   ],
   "source": [
    "myArray2 = np.array(np.random.normal(100,10,100))\n",
    "print(myArray2[:30])\n",
    "myArray2GT100 = []\n",
    "i=0\n",
    "for number in myArray2:\n",
    "    if number > 100:\n",
    "        myArray2GT100.insert(i,number)\n",
    "    i=i+1    \n",
    "print(myArray2GT100[:30])    \n",
    "print(myArray2GT100)\n",
    "len(myArray2GT100)\n",
    "# Yes, it is distribution and it is expected to have several values below 100 as well"
   ]
  },
  {
   "cell_type": "markdown",
   "metadata": {},
   "source": [
    "Question 3: Create a pandas series called mySeries \n",
    "The series should hold the values 34, 12, 34 and 23 and the labels A, B, C, and D. Create a name to label the column “Type”. Print the Series.\n",
    "\n",
    "Print only the Type B values\n",
    "Print only the Type B and C values\n",
    "Print all the values that are equal to 34\n"
   ]
  },
  {
   "cell_type": "code",
   "execution_count": 66,
   "metadata": {},
   "outputs": [
    {
     "name": "stdout",
     "output_type": "stream",
     "text": [
      "  Type  Values\n",
      "0    A      34\n",
      "1    B      12\n",
      "2    C      34\n",
      "3    D      23\n"
     ]
    }
   ],
   "source": [
    "mySeries = pd.DataFrame({'Type':['A','B','C','D'], 'Values' : [34,12,34,23]})\n",
    "print(mySeries)"
   ]
  },
  {
   "cell_type": "code",
   "execution_count": 64,
   "metadata": {},
   "outputs": [
    {
     "name": "stdout",
     "output_type": "stream",
     "text": [
      "1    12\n",
      "Name: Values, dtype: int64\n",
      "1    12\n",
      "2    34\n",
      "Name: Values, dtype: int64\n",
      "0    A\n",
      "2    C\n",
      "Name: Type, dtype: object\n"
     ]
    }
   ],
   "source": [
    "print(mySeries.Values[mySeries.Type == 'B'])\n",
    "print(mySeries.Values[(mySeries.Type == 'B')|(mySeries.Type == 'C')])\n",
    "print(mySeries.Type[(mySeries.Values == 34)])"
   ]
  },
  {
   "cell_type": "markdown",
   "metadata": {},
   "source": [
    "Question 4\n",
    "Create a pandas dataframe called mydf with the following structure:\n",
    "\n",
    "View the dataframe.\n",
    "Change the order of the columns to be sales, employees, location and save as mydf2. View the new dataframe.\n",
    "View only the employees from mydf2.\n",
    "View only data for Dallas from mydf2.\n",
    "View the sales for Dallas from mydf2.\n",
    "View the sales and employees for Dallas from mydf2.\n",
    "View sales > 35000 from mydf2.\n"
   ]
  },
  {
   "cell_type": "code",
   "execution_count": 83,
   "metadata": {},
   "outputs": [
    {
     "name": "stdout",
     "output_type": "stream",
     "text": [
      "            employees  location  sales\n",
      "Dallas             24        13  34523\n",
      "Austin             16         8  12345\n",
      "Fort Worth         25         4  39324\n",
      "Houston            30         2  41234\n"
     ]
    }
   ],
   "source": [
    "index = ['Dallas', 'Austin', 'Fort Worth', 'Houston']\n",
    "data = {'employees': [24,16,25,30], 'location': [13,8,4,2], 'sales' : [34523, 12345, 39324, 41234]}\n",
    "mydf = pd.DataFrame(data, index = index)\n",
    "print(mydf)"
   ]
  },
  {
   "cell_type": "code",
   "execution_count": 96,
   "metadata": {},
   "outputs": [
    {
     "name": "stdout",
     "output_type": "stream",
     "text": [
      "            sales  employees  location\n",
      "Dallas      34523         24        13\n",
      "Austin      12345         16         8\n",
      "Fort Worth  39324         25         4\n",
      "Houston     41234         30         2\n",
      "Dallas        24\n",
      "Austin        16\n",
      "Fort Worth    25\n",
      "Houston       30\n",
      "Name: employees, dtype: int64\n",
      "        sales  employees  location\n",
      "Dallas  34523         24        13\n",
      "Dallas    34523\n",
      "Name: sales, dtype: int64\n"
     ]
    }
   ],
   "source": [
    "mydf2 = mydf[['sales','employees','location']]\n",
    "print(mydf2)\n",
    "print(mydf2.employees)\n",
    "print(mydf2[mydf2.index=='Dallas'])\n",
    "print(mydf2.sales[mydf2.index=='Dallas'])"
   ]
  },
  {
   "cell_type": "code",
   "execution_count": 99,
   "metadata": {},
   "outputs": [
    {
     "name": "stdout",
     "output_type": "stream",
     "text": [
      "        sales  employees\n",
      "Dallas  34523         24\n"
     ]
    }
   ],
   "source": [
    "mydf3 = mydf2.drop('location', axis = 1)\n",
    "print(mydf3[mydf3.index=='Dallas'])"
   ]
  },
  {
   "cell_type": "code",
   "execution_count": 101,
   "metadata": {},
   "outputs": [
    {
     "name": "stdout",
     "output_type": "stream",
     "text": [
      "            sales  employees  location\n",
      "Fort Worth  39324         25         4\n",
      "Houston     41234         30         2\n"
     ]
    }
   ],
   "source": [
    "print(mydf2[mydf2.sales>35000])"
   ]
  }
 ],
 "metadata": {
  "kernelspec": {
   "display_name": "Python 3",
   "language": "python",
   "name": "python3"
  },
  "language_info": {
   "codemirror_mode": {
    "name": "ipython",
    "version": 3
   },
   "file_extension": ".py",
   "mimetype": "text/x-python",
   "name": "python",
   "nbconvert_exporter": "python",
   "pygments_lexer": "ipython3",
   "version": "3.7.3"
  }
 },
 "nbformat": 4,
 "nbformat_minor": 2
}
