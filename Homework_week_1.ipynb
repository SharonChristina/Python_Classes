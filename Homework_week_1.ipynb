{
 "cells": [
  {
   "cell_type": "code",
   "execution_count": 1,
   "metadata": {},
   "outputs": [
    {
     "name": "stdout",
     "output_type": "stream",
     "text": [
      "528000\n"
     ]
    }
   ],
   "source": [
    "#1. Miles to feet\n",
    "onemileinfeet = 5280\n",
    "#change input\n",
    "inputmiles = 100\n",
    "outputfeet = inputmiles*onemileinfeet\n",
    "print(outputfeet)"
   ]
  },
  {
   "cell_type": "code",
   "execution_count": 85,
   "metadata": {},
   "outputs": [
    {
     "name": "stdout",
     "output_type": "stream",
     "text": [
      "Enter time in format: hh,mm,ss07,21,37\n",
      "26497\n"
     ]
    }
   ],
   "source": [
    "#2. Time converted to seconds\n",
    "from datetime import datetime\n",
    "#input 7, 21, 37\n",
    "time = input(\"Enter time in format: hh,mm,ss\")\n",
    "hour = datetime.strptime(time,'%H,%M,%S').hour #less than 12\n",
    "minute = datetime.strptime(time,'%H,%M,%S').minute #less than 60\n",
    "second = datetime.strptime(time,'%H,%M,%S').second #less than 60\n",
    "Answer_in_seconds = (hour*3600)+(minute*60)+second\n",
    "print(Answer_in_seconds)"
   ]
  },
  {
   "cell_type": "code",
   "execution_count": 89,
   "metadata": {},
   "outputs": [
    {
     "name": "stdout",
     "output_type": "stream",
     "text": [
      "Width of the rectangle12\n",
      "Length of the rectangle12\n",
      "Perimeter of rectangle is 48\n"
     ]
    }
   ],
   "source": [
    "#3. Perimeter of a rectangle length 10 breadth 5\n",
    "width = input(\"Width of the rectangle\")\n",
    "length = input(\"Length of the rectangle\")\n",
    "length = int(length)\n",
    "width = int(width)\n",
    "perimeter = (2*(width+length))\n",
    "print(f'Perimeter of rectangle is {perimeter}')"
   ]
  },
  {
   "cell_type": "code",
   "execution_count": 97,
   "metadata": {},
   "outputs": [
    {
     "name": "stdout",
     "output_type": "stream",
     "text": [
      "Enter present value of dollars 1000\n",
      "Future value of $1000 after 10 years at the rate of 7% is $1967.1513572895665\n"
     ]
    }
   ],
   "source": [
    "#4. Future value of Money\n",
    "p = input(\"Enter present value of dollars \")\n",
    "p = int(p)\n",
    "r = 7\n",
    "y = 10\n",
    "f = p*((1+(r/100))**10)\n",
    "print(f'Future value of ${p} after {y} years at the rate of {r}% is ${f}')"
   ]
  },
  {
   "cell_type": "code",
   "execution_count": 101,
   "metadata": {},
   "outputs": [
    {
     "name": "stdout",
     "output_type": "stream",
     "text": [
      "My name is Albert Einstein.\n"
     ]
    }
   ],
   "source": [
    "#5. String Concatenation\n",
    "String1 = 'My name is'\n",
    "String2 = 'Albert'\n",
    "String3 = 'Einstein'\n",
    "s = ' '\n",
    "period = '.'\n",
    "Sentence = String1 + s + String2 + s + String3 + period\n",
    "print(Sentence)"
   ]
  },
  {
   "cell_type": "code",
   "execution_count": 102,
   "metadata": {},
   "outputs": [
    {
     "name": "stdout",
     "output_type": "stream",
     "text": [
      "Albert Einstein was 76 years old.\n"
     ]
    }
   ],
   "source": [
    "#6 String and Number concatenation\n",
    "Name = \"Albert Einstein\"\n",
    "Age = 76\n",
    "print(f'{Name} was {Age} years old.')"
   ]
  },
  {
   "cell_type": "code",
   "execution_count": null,
   "metadata": {},
   "outputs": [],
   "source": [
    "#7 Distance between two Co-ordinates\n",
    "x,y = [2,2],[5,6]\n",
    "Distance = (((x[0]-y[0])**2) + ((x[1]-y[1])**2))**0.5\n",
    "print(f'The distance between {x} and {y} is {Distance} units.')"
   ]
  },
  {
   "cell_type": "code",
   "execution_count": 78,
   "metadata": {},
   "outputs": [
    {
     "name": "stdout",
     "output_type": "stream",
     "text": [
      "Enter name, age, favorite ice-cream, favorite movie respectively in the format separates by a commaSharon, 22, Honey, Sound of Music\n",
      "Hi Sharon,\n",
      "Let's go to the shop and get some Honey ice-cream.\n",
      "Afterwards let's go watch the Sound of Music movie.\n",
      "Did you say you are 22?\n",
      "Wow, I am 22 too!\n",
      "Wink-Wink\n"
     ]
    }
   ],
   "source": [
    "#8. Gather input and print output\n",
    "import pandas as pd\n",
    "User_details = input(\"Enter name, age, favorite ice-cream, favorite movie respectively in the format separates by a comma\")\n",
    "UD = pd.DataFrame(User_details.split(', '))\n",
    "name = UD.loc[0].iat[0]\n",
    "age = UD.loc[1].iat[0]\n",
    "food = UD.loc[2].iat[0]\n",
    "movie = UD.loc[3].iat[0]\n",
    "print(f'Hi {name},\\nLet\\'s go to the shop and get some {food} ice-cream.\\nAfterwards let\\'s go watch the {movie} movie.\\nDid you say you are {age}?\\nWow, I am {age} too!\\nWink-Wink')   \n",
    "                    "
   ]
  },
  {
   "cell_type": "code",
   "execution_count": null,
   "metadata": {},
   "outputs": [],
   "source": []
  },
  {
   "cell_type": "code",
   "execution_count": null,
   "metadata": {},
   "outputs": [],
   "source": []
  }
 ],
 "metadata": {
  "kernelspec": {
   "display_name": "Python 3",
   "language": "python",
   "name": "python3"
  },
  "language_info": {
   "codemirror_mode": {
    "name": "ipython",
    "version": 3
   },
   "file_extension": ".py",
   "mimetype": "text/x-python",
   "name": "python",
   "nbconvert_exporter": "python",
   "pygments_lexer": "ipython3",
   "version": "3.7.3"
  }
 },
 "nbformat": 4,
 "nbformat_minor": 2
}
