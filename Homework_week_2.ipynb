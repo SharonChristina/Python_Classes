{
 "cells": [
  {
   "cell_type": "markdown",
   "metadata": {},
   "source": [
    "Question 1\n",
    "Create a program that asks the user to enter the sales for two stores: Denver and Parker.\n",
    "Print a statement “Denver and Parker have total sales of ????.” Create a variable for each\n",
    "of the store sales and also for the total sales before printing."
   ]
  },
  {
   "cell_type": "code",
   "execution_count": 2,
   "metadata": {},
   "outputs": [
    {
     "name": "stdout",
     "output_type": "stream",
     "text": [
      "Enter Sales for Denver 30\n",
      "Enter Sales for Parker 50\n",
      "Denver and Parker have a total sales of 80 units\n"
     ]
    }
   ],
   "source": [
    "SalesD = int(input('Enter Sales for Denver ')) #remember input always takes a string\n",
    "SalesP = int(input('Enter Sales for Parker '))    \n",
    "totalsales = SalesD + SalesP\n",
    "print(f\"Denver and Parker have a total sales of {totalsales} units.\")"
   ]
  },
  {
   "cell_type": "markdown",
   "metadata": {},
   "source": [
    "Question 2\n",
    "Create python program that prints out integers from 50 to 55 (inclusive) on separate lines\n",
    "along with a running sum; e.g. \"51 with sum of 101\". Use a for loop that includes the\n",
    "range function."
   ]
  },
  {
   "cell_type": "code",
   "execution_count": 16,
   "metadata": {},
   "outputs": [
    {
     "name": "stdout",
     "output_type": "stream",
     "text": [
      "50 0\n",
      "51 101\n",
      "52 103\n",
      "53 105\n",
      "54 107\n",
      "55 109\n"
     ]
    }
   ],
   "source": [
    "sum = 0\n",
    "for x in range(50,56,1):\n",
    "    print(x,sum) \n",
    "    y=x+1\n",
    "    sum = x+y"
   ]
  },
  {
   "cell_type": "markdown",
   "metadata": {},
   "source": [
    "Question 3\n",
    "Create a function that counts using a while loop and/or a for loop and DO NOT USE\n",
    "THE RANGE FUNCTION. The function header code should look like:\n",
    "def count(start, step, stop):\n",
    "start = starting integer number\n",
    "step = integer increments from the starting number\n",
    "stop = number you should stop at or should not exceed\n",
    "\n",
    "Example: count (2,3,10) should output\n",
    "2\n",
    "5\n",
    "8\n",
    "Test your function by passing the following parameters into the function: count (0, 2, 20)\n",
    "and count (3, 4, 17).\n"
   ]
  },
  {
   "cell_type": "code",
   "execution_count": 23,
   "metadata": {},
   "outputs": [],
   "source": [
    "def count(start, step, stop):\n",
    "    if start <= stop:\n",
    "    ## Counts from start to stop at increment of step value, input must be integer values\n",
    "        print(\"----\")\n",
    "        while start <= stop:\n",
    "            print(start)\n",
    "            start = start + step\n",
    "            \n",
    "    else:\n",
    "        print(\"Enter valid input, the start should be smaller than stop\")\n",
    "    print(\"----\")    "
   ]
  },
  {
   "cell_type": "code",
   "execution_count": 24,
   "metadata": {},
   "outputs": [
    {
     "name": "stdout",
     "output_type": "stream",
     "text": [
      "----\n",
      "2\n",
      "5\n",
      "8\n",
      "----\n",
      "----\n",
      "0\n",
      "2\n",
      "4\n",
      "6\n",
      "8\n",
      "10\n",
      "12\n",
      "14\n",
      "16\n",
      "18\n",
      "20\n",
      "----\n",
      "----\n",
      "3\n",
      "7\n",
      "11\n",
      "15\n",
      "----\n"
     ]
    }
   ],
   "source": [
    "count(2,3,10)\n",
    "count(0,2,20)\n",
    "count(3,4,17)"
   ]
  },
  {
   "cell_type": "markdown",
   "metadata": {},
   "source": [
    "Question 4\n",
    "Here is a table with Cows and their favorite Ice Cream. \n",
    "Cows\n",
    "Favorite Ice Cream\n",
    "Clarabelle\n",
    "Chocolate Mint\n",
    "Ellie\n",
    "Vanilla\n",
    "Daisy\n",
    "Lime\n",
    "Louise\n",
    "Strawberry\n",
    "\n",
    " \n",
    "Create a function called Fav_IceCream(cow). It should first store the above information in a Dictionary. It should accept as input the name of a cow and return their corresponding favorite ice cream in a statement such as “The Ice Cream that Clarabelle likes most is Chocolate Mint.” Also include error checking code that outputs a user-friendly error message when a name not found in the table is passed as an argument into the function. \n",
    "\n",
    "Test your function using the following cow names passed to the function: Louise, Daisy, and Clarence.\n"
   ]
  },
  {
   "cell_type": "code",
   "execution_count": 42,
   "metadata": {},
   "outputs": [],
   "source": [
    "def Fav_IceCream(cow):\n",
    "    Icecream = {\"Clarabelle\":\"Chocolate Mint\", \"Ellie\":\"Vanilla\",\"Daisy\":\"Lime\",\"Louise\":\"Strawberry\"}\n",
    "    if cow in Icecream:\n",
    "        print(f'The Ice Cream that {cow} likes most is {Icecream[cow]}.\\n')\n",
    "    else:\n",
    "         print(\"Error - The name is not found. Try again. Please enter a valid cow name.\\n\")"
   ]
  },
  {
   "cell_type": "code",
   "execution_count": 43,
   "metadata": {},
   "outputs": [
    {
     "name": "stdout",
     "output_type": "stream",
     "text": [
      "The Ice Cream that Louise likes most is Strawberry.\n",
      "\n",
      "The Ice Cream that Daisy likes most is Lime.\n",
      "\n",
      "Error - The name is not found. Try again. Please enter a valid cow name.\n",
      "\n"
     ]
    }
   ],
   "source": [
    "Fav_IceCream(\"Louise\")\n",
    "Fav_IceCream(\"Daisy\")\n",
    "Fav_IceCream(\"Clarence\")"
   ]
  },
  {
   "cell_type": "markdown",
   "metadata": {},
   "source": [
    "QUESTION 5\n",
    "Complete the following:\n",
    "Write pseudocode for how to calculate the mean of a list of numbers (You may not use the mean function). Insert your steps below.\n",
    "Write pseudocode for how to calculate the median of a list of numbers (You may not use the median function). Insert your steps below.\n",
    "Create a function to accept a list of numbers as input. The program will output the min, max, mean, and median of the list including the label; e.g., \"Mean: 4\". You can use functions to find the min() and max() but you should use your pseudocode code steps to find the mean and median. Test the function with the lists:\n",
    "[4,2,6,2,6,2,8,5,6,3,2,5]\n",
    "[9,2,3,4,6,2,6,5,6,3,2]"
   ]
  },
  {
   "cell_type": "code",
   "execution_count": 34,
   "metadata": {},
   "outputs": [],
   "source": [
    "def SummaryStat(num):\n",
    "    sum = 0\n",
    "    num.sort()\n",
    "    print(f'Sorted input is {num}')\n",
    "    for index in range(len(num)): \n",
    "        num[index] = int((num[index]))\n",
    "        sum = sum + num[index]\n",
    "    mean = round((sum/len(num)),2)\n",
    "    mid = int(len(num)/2)\n",
    "    if (len(num)%2) == 0:\n",
    "        median = (num[mid-1]+num[(mid)])/2\n",
    "    else:\n",
    "        newmid = int(round(mid))\n",
    "        median = num[newmid]\n",
    "    minimum = min(num)\n",
    "    maximum = max(num)        \n",
    "    \n",
    "    print(f'Mean  : {mean}\\nMin   : {minimum}\\nMax   : {maximum}\\nMedian: {median}\\n')"
   ]
  },
  {
   "cell_type": "code",
   "execution_count": 36,
   "metadata": {},
   "outputs": [
    {
     "name": "stdout",
     "output_type": "stream",
     "text": [
      "Enter input for calculating the mean:9,2,3,4,6,2,6,5,6,3,2\n",
      "Sorted input is ['2', '2', '2', '3', '3', '4', '5', '6', '6', '6', '9']\n",
      "Mean  : 4.36\n",
      "Min   : 2\n",
      "Max   : 9\n",
      "Median: 4\n",
      "\n"
     ]
    }
   ],
   "source": [
    "#[4,2,6,2,6,2,8,5,6,3,2,5] [9,2,3,4,6,2,6,5,6,3,2]\n",
    "num=(input(\"Enter input for calculating the mean:\").split(','))\n",
    "SummaryStat(num)"
   ]
  },
  {
   "cell_type": "markdown",
   "metadata": {},
   "source": [
    "QUESTION 6\n",
    "Suppose we want to allow 2 or 3 players to play a dice game with a fair 6-sided die. The player with the highest dice roll wins. If there are 2 players with the highest number, they both win. If there are 3 players with the highest number, then they all win. Complete the following:\n",
    "Write Pseudocode for the game if there are only 2 players. Insert your steps below.\n",
    "Write Pseudocode for the game if there are 3 players. Insert your steps below.\n",
    "Create a function that accepts a number of players as input. If the user enters a number that is not 2 or 3, then return a friendly error message. If the user enters 2 or 3, then the program should randomly assign dice rolls to the 2 or 3 players and return a friendly message with the dice rolls for each player and the result of the game. Test the game 5 times with 2 players and 5 times with 3 players to try to get a variety of different output results.\n"
   ]
  },
  {
   "cell_type": "code",
   "execution_count": 51,
   "metadata": {},
   "outputs": [],
   "source": [
    "def twothreeplayergame(players):\n",
    "    import random\n",
    "    if players == 2:\n",
    "        N =[0,0,0]\n",
    "        y = players+1\n",
    "        for i in range(1,y):\n",
    "            N[i] = random.randint(1,6)\n",
    "            print(f'Player{i} got {N[i]}')\n",
    "        if N[1]>N[2]:\n",
    "            print(\"player1 wins\")\n",
    "        elif N[1]==N[2]:\n",
    "            print(\"player1 & player2 win\")\n",
    "        else:\n",
    "            print(\"player2 wins\")\n",
    "    elif players ==3:\n",
    "        N =[0,0,0,0]\n",
    "        for i in range(1,(players+1)):\n",
    "            N[i] = random.randint(1,6)\n",
    "            print(f'Player{i} got {N[i]}')\n",
    "        if N[1]>N[2] & N[1]>N[3]:\n",
    "            print(\"player1 wins\")\n",
    "        elif N[2]>N[3] :\n",
    "            print(\"player2 wins\")\n",
    "        elif N[1]==N[2] & N[1]==N[3]:\n",
    "            print(\"All win\")\n",
    "        elif N[1]==N[2]:    \n",
    "            print(\"player1 and player2 win\")\n",
    "        elif N[2]==N[3]:\n",
    "            print(\"player2 and player3 win\")\n",
    "        elif N[1]==N[3]:\n",
    "            print(\"player1 and player3 win\")\n",
    "        else:\n",
    "            print(\"player3 wins\")\n",
    "    else:\n",
    "        print(\"Error player number is either 2 or 3, please enter a valid number\")      "
   ]
  },
  {
   "cell_type": "code",
   "execution_count": 55,
   "metadata": {},
   "outputs": [
    {
     "name": "stdout",
     "output_type": "stream",
     "text": [
      "Enter the number of players2\n",
      "Player1 got 1\n",
      "Player2 got 5\n",
      "player2 wins\n"
     ]
    }
   ],
   "source": [
    "#Run the game\n",
    "players = int(input(\"Enter the number of players\"))\n",
    "twothreeplayergame(players)"
   ]
  }
 ],
 "metadata": {
  "kernelspec": {
   "display_name": "Python 3",
   "language": "python",
   "name": "python3"
  },
  "language_info": {
   "codemirror_mode": {
    "name": "ipython",
    "version": 3
   },
   "file_extension": ".py",
   "mimetype": "text/x-python",
   "name": "python",
   "nbconvert_exporter": "python",
   "pygments_lexer": "ipython3",
   "version": "3.7.3"
  }
 },
 "nbformat": 4,
 "nbformat_minor": 2
}
